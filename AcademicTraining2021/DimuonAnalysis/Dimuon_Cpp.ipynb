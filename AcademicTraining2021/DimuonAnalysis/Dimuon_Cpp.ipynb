{
 "cells": [
  {
   "cell_type": "markdown",
   "metadata": {},
   "source": [
    "# ROOT dataframe tutorial: Dimuon spectrum\n",
    "\n",
    "The ROOT dataframe tutorial shows you how to analyze datasets using `RDataFrame`. The example analysis performs the following steps:\n",
    "\n",
    "1. Connect a ROOT dataframe to a dataset containing 66 mio. events recorded by CMS in 2012\n",
    "2. Filter the events being relevant for your analysis\n",
    "3. Compute the invariant mass of the selected dimuon candidates\n",
    "4. Plot the invariant mass spectrum showing resonances up to the Z mass\n",
    "\n",
    "The notebook runs out-of-the-box. However, you are encouraged to tweak the code to see the effect on the result! \n",
    "\n",
    "Specific questions, which will improve your understanding of the technology, **are marked bold.**\n",
    "\n",
    "## How to use the notebook\n",
    "\n",
    "In short: You can execute a cell by selecting it and pressing Ctrl+Enter.\n",
    "\n",
    "For the full documentation, you can click on `Help` above.\n",
    "\n",
    "## Outline\n",
    "\n",
    "The full tutorial consists of three stages and shows you how to use ROOT dataframes ...\n",
    "\n",
    "1. ... in C++\n",
    "2. ... in Python\n",
    "3. ... in Python with advanced features"
   ]
  },
  {
   "cell_type": "markdown",
   "metadata": {},
   "source": [
    "## Stage 1:  Using C++\n",
    "\n",
    "Since ROOT is a C++ framework, the first part of the ROOT dataframe tutorial introduces you to the C++ API. Though C++ is probably not as convenient as Python, the resulting program is very performant, which is obviously of interest for large-scale physics analysis.\n",
    "\n",
    "Have a look at the following code to understand how a computation graph can be build using `RDataFrame` in C++."
   ]
  },
  {
   "cell_type": "markdown",
   "metadata": {},
   "source": [
    "## Create a ROOT dataframe\n",
    "\n",
    "The following ROOT dataframe is connected to a dataset named `Events` in two ROOT files. These files are not placed locally but pulled in via [XRootD](http://xrootd.org/) from a remote server.\n",
    "\n",
    "The dataset `Events` is a `TTree` (a \"table\" in first order) and has following branches (also refered to as \"columns\"):\n",
    "\n",
    "| Branch name | Data type | Description |\n",
    "|-------------|-----------|-------------|\n",
    "| `nMuon` | `unsigned int` | Number of muons in this event |\n",
    "| `Muon_pt` | `float[nMuon]` | Transverse momentum of the muons stored as an array of size `nMuon` |\n",
    "| `Muon_eta` | `float[nMuon]` | Pseudo-rapidity of the muons stored as an array of size `nMuon` |\n",
    "| `Muon_phi` | `float[nMuon]` | Azimuth of the muons stored as an array of size `nMuon` |\n",
    "| `Muon_charge` | `int[nMuon]` | Charge of the muons stored as an array of size `nMuon` and either -1 or 1 |\n",
    "| `Muon_mass` | `float[nMuon]` | Mass of the muons stored as an array of size `nMuon` |"
   ]
  },
  {
   "cell_type": "code",
   "execution_count": null,
   "metadata": {},
   "outputs": [],
   "source": [
    "ROOT::RDataFrame df(\"Events\",\n",
    "                  {\"root://eospublic.cern.ch//eos/root-eos/cms_opendata_2012_nanoaod/Run2012B_DoubleMuParked.root\",\n",
    "                   \"root://eospublic.cern.ch//eos/root-eos/cms_opendata_2012_nanoaod/Run2012C_DoubleMuParked.root\"});"
   ]
  },
  {
   "cell_type": "markdown",
   "metadata": {},
   "source": [
    "## Filter relevant events for this analysis\n",
    "\n",
    "Physics datasets are often general purpose datasets and therefore need excessive filtering of the events for the actual analysis. Here, we implement only a simple selection based on the number of muons and the charge to cut down the dataset on events, which are relevant for our study.\n",
    "\n",
    "**Fill in the correct expressions to select ...**\n",
    "\n",
    "1. Events with exactly two muons\n",
    "2. Events with muons of opposite charge\n",
    "\n",
    "See the table above for the column names and the data types."
   ]
  },
  {
   "cell_type": "code",
   "execution_count": null,
   "metadata": {},
   "outputs": [],
   "source": [
    "auto df_2mu = df.Filter(\"nMuon == 3\", \"Events with exactly two muons\");\n",
    "auto df_os = df_2mu.Filter(\"Muon_charge[0] == Muon_charge[1]\", \"Muons with opposite charge\");"
   ]
  },
  {
   "cell_type": "markdown",
   "metadata": {},
   "source": [
    "## Compute the invariant mass of the dimuon system\n",
    "\n",
    "Since we want to see the resonances in the mass spectrum, where dimuon events are more likely, we need to compute the invariant mass from the four-vectors of the muon candidates. Because this operation is non-trivial, we using ROOT's `Math::LorentzVector` to do the job for us.\n",
    "\n",
    "The `Define` method below can also create new columns based on jitted strings, such as done for the `Filter` above. However, we implement a C++ callable, here the lambda function `compute_mass`, which is then passed to the `Define` method to be executed in the event loop.\n",
    "\n",
    "In case you haven't used lambda functions before, that's how they work:\n",
    "\n",
    "```cpp\n",
    "auto my_lambda =                  // The name of the lambda function.\n",
    "                 []               // In these braces you can capture variables from the outer scope.\n",
    "                 (int x)          // The signature of your function.\n",
    "                 { return 2*x; }; // The body of the function with your implementation.\n",
    "```"
   ]
  },
  {
   "cell_type": "code",
   "execution_count": null,
   "metadata": {},
   "outputs": [],
   "source": [
    "using Vec_t = const ROOT::VecOps::RVec<float> &;\n",
    "auto compute_mass = [](Vec_t pt, Vec_t eta, Vec_t phi, Vec_t mass) {\n",
    "    ROOT::Math::PtEtaPhiMVector p1(pt[0], eta[0], phi[0], mass[0]);\n",
    "    ROOT::Math::PtEtaPhiMVector p2(pt[1], eta[1], phi[1], mass[1]);\n",
    "    return (p1 + p2).mass();\n",
    "};\n",
    "auto df_mass = df_os.Define(\"Dimuon_mass\", compute_mass, {\"Muon_pt\", \"Muon_eta\", \"Muon_phi\", \"Muon_mass\"});"
   ]
  },
  {
   "cell_type": "markdown",
   "metadata": {},
   "source": [
    "## Run only on a part of the dataset\n",
    "\n",
    "The full dataset contains half a year of CMS data taking in 2012 with 66 mio events. For the purpose of this example, we use the `Range` node to run only on a small part of the dataset. This feature also comes in handy in the development phase of your analysis.\n",
    "\n",
    "Feel free to experiment with this parameter!"
   ]
  },
  {
   "cell_type": "code",
   "execution_count": null,
   "metadata": {},
   "outputs": [],
   "source": [
    "auto df_range = df_mass.Range(100000);"
   ]
  },
  {
   "cell_type": "markdown",
   "metadata": {},
   "source": [
    "## Make a histogram of the dimuon spectrum\n",
    "\n",
    "As (almost) always in physics, we have a look at the results in the form of a histogram. Let's book a histogram as one endpoint of our computation graph.\n",
    "\n",
    "**Where do you expect resonances in the dimuon spectrum? Adjust the plotting range accordingly!**"
   ]
  },
  {
   "cell_type": "code",
   "execution_count": null,
   "metadata": {},
   "outputs": [],
   "source": [
    "const auto nbins = 30000;\n",
    "const auto low = 100;\n",
    "const auto up = 300;\n",
    "auto h = df_range.Histo1D({\"Dimuon_mass\", \"Dimuon_mass\", nbins, low, up}, \"Dimuon_mass\");"
   ]
  },
  {
   "cell_type": "markdown",
   "metadata": {},
   "source": [
    "## What are the cuts doing?\n",
    "\n",
    "To find out how many events your cuts are throwing away, we can book another endpoint of the graph reporting us the efficiency of the cuts."
   ]
  },
  {
   "cell_type": "code",
   "execution_count": null,
   "metadata": {},
   "outputs": [],
   "source": [
    "auto report = df_range.Report();"
   ]
  },
  {
   "cell_type": "markdown",
   "metadata": {},
   "source": [
    "## Plot the dimuon spectrum\n",
    "\n",
    "Now, the computation graph is set up. Next, we want to have a look at the result.\n",
    "\n",
    "**Can you figure out where the event loop actually runs?**\n",
    "\n",
    "Note that `%%time` measures the time spend in the full cell."
   ]
  },
  {
   "cell_type": "code",
   "execution_count": null,
   "metadata": {},
   "outputs": [],
   "source": [
    "%%time\n",
    "gStyle->SetOptStat(0); gStyle->SetTextFont(42);\n",
    "auto c = new TCanvas(\"c\", \"\", 800, 700);\n",
    "c->SetLogx(); c->SetLogy();\n",
    "h->SetTitle(\"\");\n",
    "h->GetXaxis()->SetTitle(\"m_{#mu#mu} (GeV)\"); h->GetXaxis()->SetTitleSize(0.04);\n",
    "h->GetYaxis()->SetTitle(\"N_{Events}\"); h->GetYaxis()->SetTitleSize(0.04);\n",
    "h->Draw();\n",
    "\n",
    "TLatex label; label.SetNDC(true);\n",
    "label.SetTextSize(0.040); label.DrawLatex(0.100, 0.920, \"#bf{CMS Open Data}\");\n",
    "label.SetTextSize(0.030); label.DrawLatex(0.630, 0.920, \"#sqrt{s} = 8 TeV, L_{int} = 11.6 fb^{-1}\");"
   ]
  },
  {
   "cell_type": "markdown",
   "metadata": {},
   "source": [
    "ROOT provides for the notebooks a JavaScript front-end for drawing the canvas. Click and drag on the axis to zoom in and double click to reset view.\n",
    "\n",
    "**Hint: It is possible to see the [eta meson](https://de.wikipedia.org/wiki/%CE%97-Meson)!**\n",
    "\n",
    "Don't forget that you can improve the statistics by increasing the number of events given to `Range`."
   ]
  },
  {
   "cell_type": "code",
   "execution_count": null,
   "metadata": {},
   "outputs": [],
   "source": [
    "%jsroot on\n",
    "c->Draw()"
   ]
  },
  {
   "cell_type": "markdown",
   "metadata": {},
   "source": [
    "## Inspecting the cut-flow\n",
    "\n",
    "As the last study, we have a look at the efficiency of the placed cuts.\n",
    "\n",
    "**Does the event loop run again, when executing the following line of code?**"
   ]
  },
  {
   "cell_type": "code",
   "execution_count": null,
   "metadata": {},
   "outputs": [],
   "source": [
    "report->Print();"
   ]
  },
  {
   "cell_type": "markdown",
   "metadata": {},
   "source": [
    "## Additional tasks\n",
    "\n",
    "Try to implement a second histogram and measure the time to compute both from the input dataset. The dataset contains the column `PV_npvs` representing the number of primary vertices per event, which you can study for this purpose.\n",
    "\n",
    "**Is the time spend doubled? What do you expect?**"
   ]
  }
 ],
 "metadata": {
  "kernelspec": {
   "display_name": "ROOT C++",
   "language": "c++",
   "name": "root"
  },
  "language_info": {
   "codemirror_mode": "text/x-c++src",
   "file_extension": ".C",
   "mimetype": " text/x-c++src",
   "name": "c++"
  }
 },
 "nbformat": 4,
 "nbformat_minor": 2
}
